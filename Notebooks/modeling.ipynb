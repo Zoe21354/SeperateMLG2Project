{
 "cells": [
  {
   "cell_type": "markdown",
   "metadata": {},
   "source": [
    "# **BUILDING MODELS**\n",
    "\n",
    "Having analysed, cleaned and split the dataset, model building can now take place. This notebook will take the following structure:\n",
    "\n",
    "1. Build Model 1\n",
    "2. Predictions of Model 1 \n",
    "3. Feature Importance of Model 1\n",
    "4. Build Model 2\n",
    "5. Predictions of Model 2 \n",
    "6. Feature Importance of Model 2"
   ]
  },
  {
   "cell_type": "markdown",
   "metadata": {},
   "source": [
    "## **1. Building Model 1**"
   ]
  }
 ],
 "metadata": {
  "language_info": {
   "name": "python"
  }
 },
 "nbformat": 4,
 "nbformat_minor": 2
}
